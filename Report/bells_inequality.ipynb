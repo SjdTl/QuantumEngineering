{
 "cells": [
  {
   "cell_type": "code",
   "execution_count": 2,
   "metadata": {},
   "outputs": [],
   "source": [
    "from sympy import *\n",
    "import matplotlib.pyplot as plt\n",
    "import numpy as np\n",
    "from sympy import mathematica_code as mcode\n",
    "from IPython.display import Math"
   ]
  },
  {
   "cell_type": "code",
   "execution_count": 3,
   "metadata": {},
   "outputs": [],
   "source": [
    "def ddisplay(*arg):\n",
    "    for a in arg:\n",
    "        display(Math(latex(a)))"
   ]
  },
  {
   "cell_type": "markdown",
   "metadata": {},
   "source": [
    "# Bases\n",
    "Defining the relevant bases by first creating a general function for $R(\\theta)$ and then using the tensor product calculate the actual gates."
   ]
  },
  {
   "cell_type": "code",
   "execution_count": 11,
   "metadata": {},
   "outputs": [
    {
     "data": {
      "text/latex": [
       "$\\displaystyle \\left[\\begin{matrix}\\cos{\\left(\\frac{\\theta}{2} \\right)} & - \\sin{\\left(\\frac{\\theta}{2} \\right)}\\\\\\sin{\\left(\\frac{\\theta}{2} \\right)} & \\cos{\\left(\\frac{\\theta}{2} \\right)}\\end{matrix}\\right]$"
      ],
      "text/plain": [
       "<IPython.core.display.Math object>"
      ]
     },
     "metadata": {},
     "output_type": "display_data"
    }
   ],
   "source": [
    "theta = symbols('theta', real=True, positive=True)\n",
    "Ry = Matrix([[cos(theta/2), -sin(theta/2)], [sin(theta/2), cos(theta/2)]])\n",
    "ddisplay(Ry)"
   ]
  },
  {
   "cell_type": "code",
   "execution_count": 5,
   "metadata": {},
   "outputs": [
    {
     "data": {
      "text/latex": [
       "$\\displaystyle \\left[\\begin{matrix}\\sqrt{\\frac{1}{2} - \\frac{\\sqrt{2}}{4}} & - \\sqrt{\\frac{\\sqrt{2}}{4} + \\frac{1}{2}} & 0 & 0\\\\\\sqrt{\\frac{\\sqrt{2}}{4} + \\frac{1}{2}} & \\sqrt{\\frac{1}{2} - \\frac{\\sqrt{2}}{4}} & 0 & 0\\\\0 & 0 & - \\sqrt{\\frac{1}{2} - \\frac{\\sqrt{2}}{4}} & \\sqrt{\\frac{\\sqrt{2}}{4} + \\frac{1}{2}}\\\\0 & 0 & - \\sqrt{\\frac{\\sqrt{2}}{4} + \\frac{1}{2}} & - \\sqrt{\\frac{1}{2} - \\frac{\\sqrt{2}}{4}}\\end{matrix}\\right]$"
      ],
      "text/plain": [
       "<IPython.core.display.Math object>"
      ]
     },
     "metadata": {},
     "output_type": "display_data"
    },
    {
     "data": {
      "text/latex": [
       "$\\displaystyle \\left[\\begin{matrix}\\sqrt{\\frac{\\sqrt{2}}{4} + \\frac{1}{2}} & - \\sqrt{\\frac{1}{2} - \\frac{\\sqrt{2}}{4}} & 0 & 0\\\\\\sqrt{\\frac{1}{2} - \\frac{\\sqrt{2}}{4}} & \\sqrt{\\frac{\\sqrt{2}}{4} + \\frac{1}{2}} & 0 & 0\\\\0 & 0 & - \\sqrt{\\frac{\\sqrt{2}}{4} + \\frac{1}{2}} & \\sqrt{\\frac{1}{2} - \\frac{\\sqrt{2}}{4}}\\\\0 & 0 & - \\sqrt{\\frac{1}{2} - \\frac{\\sqrt{2}}{4}} & - \\sqrt{\\frac{\\sqrt{2}}{4} + \\frac{1}{2}}\\end{matrix}\\right]$"
      ],
      "text/plain": [
       "<IPython.core.display.Math object>"
      ]
     },
     "metadata": {},
     "output_type": "display_data"
    },
    {
     "data": {
      "text/latex": [
       "$\\displaystyle \\left[\\begin{matrix}\\frac{\\sqrt{2} \\sqrt{\\frac{1}{2} - \\frac{\\sqrt{2}}{4}}}{2} & - \\frac{\\sqrt{2} \\sqrt{\\frac{\\sqrt{2}}{4} + \\frac{1}{2}}}{2} & \\frac{\\sqrt{2} \\sqrt{\\frac{1}{2} - \\frac{\\sqrt{2}}{4}}}{2} & - \\frac{\\sqrt{2} \\sqrt{\\frac{\\sqrt{2}}{4} + \\frac{1}{2}}}{2}\\\\\\frac{\\sqrt{2} \\sqrt{\\frac{\\sqrt{2}}{4} + \\frac{1}{2}}}{2} & \\frac{\\sqrt{2} \\sqrt{\\frac{1}{2} - \\frac{\\sqrt{2}}{4}}}{2} & \\frac{\\sqrt{2} \\sqrt{\\frac{\\sqrt{2}}{4} + \\frac{1}{2}}}{2} & \\frac{\\sqrt{2} \\sqrt{\\frac{1}{2} - \\frac{\\sqrt{2}}{4}}}{2}\\\\\\frac{\\sqrt{2} \\sqrt{\\frac{1}{2} - \\frac{\\sqrt{2}}{4}}}{2} & - \\frac{\\sqrt{2} \\sqrt{\\frac{\\sqrt{2}}{4} + \\frac{1}{2}}}{2} & - \\frac{\\sqrt{2} \\sqrt{\\frac{1}{2} - \\frac{\\sqrt{2}}{4}}}{2} & \\frac{\\sqrt{2} \\sqrt{\\frac{\\sqrt{2}}{4} + \\frac{1}{2}}}{2}\\\\\\frac{\\sqrt{2} \\sqrt{\\frac{\\sqrt{2}}{4} + \\frac{1}{2}}}{2} & \\frac{\\sqrt{2} \\sqrt{\\frac{1}{2} - \\frac{\\sqrt{2}}{4}}}{2} & - \\frac{\\sqrt{2} \\sqrt{\\frac{\\sqrt{2}}{4} + \\frac{1}{2}}}{2} & - \\frac{\\sqrt{2} \\sqrt{\\frac{1}{2} - \\frac{\\sqrt{2}}{4}}}{2}\\end{matrix}\\right]$"
      ],
      "text/plain": [
       "<IPython.core.display.Math object>"
      ]
     },
     "metadata": {},
     "output_type": "display_data"
    },
    {
     "data": {
      "text/latex": [
       "$\\displaystyle \\left[\\begin{matrix}\\frac{\\sqrt{2} \\sqrt{\\frac{\\sqrt{2}}{4} + \\frac{1}{2}}}{2} & - \\frac{\\sqrt{2} \\sqrt{\\frac{1}{2} - \\frac{\\sqrt{2}}{4}}}{2} & \\frac{\\sqrt{2} \\sqrt{\\frac{\\sqrt{2}}{4} + \\frac{1}{2}}}{2} & - \\frac{\\sqrt{2} \\sqrt{\\frac{1}{2} - \\frac{\\sqrt{2}}{4}}}{2}\\\\\\frac{\\sqrt{2} \\sqrt{\\frac{1}{2} - \\frac{\\sqrt{2}}{4}}}{2} & \\frac{\\sqrt{2} \\sqrt{\\frac{\\sqrt{2}}{4} + \\frac{1}{2}}}{2} & \\frac{\\sqrt{2} \\sqrt{\\frac{1}{2} - \\frac{\\sqrt{2}}{4}}}{2} & \\frac{\\sqrt{2} \\sqrt{\\frac{\\sqrt{2}}{4} + \\frac{1}{2}}}{2}\\\\\\frac{\\sqrt{2} \\sqrt{\\frac{\\sqrt{2}}{4} + \\frac{1}{2}}}{2} & - \\frac{\\sqrt{2} \\sqrt{\\frac{1}{2} - \\frac{\\sqrt{2}}{4}}}{2} & - \\frac{\\sqrt{2} \\sqrt{\\frac{\\sqrt{2}}{4} + \\frac{1}{2}}}{2} & \\frac{\\sqrt{2} \\sqrt{\\frac{1}{2} - \\frac{\\sqrt{2}}{4}}}{2}\\\\\\frac{\\sqrt{2} \\sqrt{\\frac{1}{2} - \\frac{\\sqrt{2}}{4}}}{2} & \\frac{\\sqrt{2} \\sqrt{\\frac{\\sqrt{2}}{4} + \\frac{1}{2}}}{2} & - \\frac{\\sqrt{2} \\sqrt{\\frac{1}{2} - \\frac{\\sqrt{2}}{4}}}{2} & - \\frac{\\sqrt{2} \\sqrt{\\frac{\\sqrt{2}}{4} + \\frac{1}{2}}}{2}\\end{matrix}\\right]$"
      ],
      "text/plain": [
       "<IPython.core.display.Math object>"
      ]
     },
     "metadata": {},
     "output_type": "display_data"
    }
   ],
   "source": [
    "def R(theta):\n",
    "    return Matrix([[cos(theta/2), -sin(theta/2)], [sin(theta/2), cos(theta/2)]])\n",
    "X_basis = 1/sqrt(2) * Matrix([[1,1], [1,-1]])\n",
    "Z_basis = Matrix([[1,0], [0,-1]])\n",
    "R_basis = R(3 * pi / 4)\n",
    "Q_basis = R(pi / 4)\n",
    "\n",
    "\n",
    "ZR = kronecker_product(Z_basis, R_basis)\n",
    "ZQ = kronecker_product(Z_basis, Q_basis)\n",
    "XR = kronecker_product(X_basis, R_basis)\n",
    "XQ = kronecker_product(X_basis, Q_basis)\n",
    "ZZ = kronecker_product(Z_basis, Z_basis)\n",
    "\n",
    "basis = [ZR, ZQ, XR, XQ]\n",
    "ddisplay(ZR, ZQ, XR, XQ)\n"
   ]
  },
  {
   "cell_type": "markdown",
   "metadata": {},
   "source": [
    "# State\n",
    "Defining the $\\vert \\psi^- \\rangle$ state"
   ]
  },
  {
   "cell_type": "code",
   "execution_count": 6,
   "metadata": {},
   "outputs": [
    {
     "data": {
      "text/latex": [
       "$\\displaystyle \\left[\\begin{matrix}0\\\\- \\frac{\\sqrt{2}}{2}\\\\\\frac{\\sqrt{2}}{2}\\\\0\\end{matrix}\\right]$"
      ],
      "text/plain": [
       "<IPython.core.display.Math object>"
      ]
     },
     "metadata": {},
     "output_type": "display_data"
    },
    {
     "data": {
      "text/latex": [
       "$\\displaystyle \\left[\\begin{matrix}0 & 0 & 0 & 0\\\\0 & \\frac{1}{2} & - \\frac{1}{2} & 0\\\\0 & - \\frac{1}{2} & \\frac{1}{2} & 0\\\\0 & 0 & 0 & 0\\end{matrix}\\right]$"
      ],
      "text/plain": [
       "<IPython.core.display.Math object>"
      ]
     },
     "metadata": {},
     "output_type": "display_data"
    }
   ],
   "source": [
    "state = 1/sqrt(2) * Matrix([0,-1,1,0])\n",
    "ddisplay(state)\n",
    "rho = state * state.H\n",
    "ddisplay(rho)"
   ]
  },
  {
   "cell_type": "markdown",
   "metadata": {},
   "source": [
    "# Expectation\n",
    "The expectation is given by $\\langle A \\rangle = \\operatorname{Tr}{\\rho A}$"
   ]
  },
  {
   "cell_type": "code",
   "execution_count": 7,
   "metadata": {},
   "outputs": [],
   "source": [
    "new_states = [b*state for b in basis]\n",
    "new_rhos = [s * s.H for s in new_states]\n",
    "new_rhos = [(b * state) * (state.H * b.H) for b in basis]"
   ]
  },
  {
   "cell_type": "code",
   "execution_count": 8,
   "metadata": {},
   "outputs": [
    {
     "data": {
      "text/latex": [
       "$\\displaystyle \\left[ \\frac{\\sqrt{2}}{2}, \\  - \\frac{\\sqrt{2}}{2}, \\  \\frac{\\sqrt{2}}{2}, \\  \\frac{\\sqrt{2}}{2}\\right]$"
      ],
      "text/plain": [
       "<IPython.core.display.Math object>"
      ]
     },
     "metadata": {},
     "output_type": "display_data"
    }
   ],
   "source": [
    "expectations = [simplify((r * ZZ).trace()) for r in new_rhos]\n",
    "ddisplay(expectations)"
   ]
  },
  {
   "cell_type": "code",
   "execution_count": 13,
   "metadata": {},
   "outputs": [
    {
     "data": {
      "text/latex": [
       "$\\displaystyle \\mathtt{\\text{S =}}$"
      ],
      "text/plain": [
       "<IPython.core.display.Math object>"
      ]
     },
     "metadata": {},
     "output_type": "display_data"
    },
    {
     "data": {
      "text/latex": [
       "$\\displaystyle 2 \\sqrt{2}$"
      ],
      "text/plain": [
       "<IPython.core.display.Math object>"
      ]
     },
     "metadata": {},
     "output_type": "display_data"
    }
   ],
   "source": [
    "ddisplay(\"S =\", (expectations[0]-expectations[1]+expectations[2]+expectations[3]))"
   ]
  },
  {
   "cell_type": "markdown",
   "metadata": {},
   "source": [
    "# Variance"
   ]
  },
  {
   "cell_type": "code",
   "execution_count": 10,
   "metadata": {},
   "outputs": [
    {
     "data": {
      "text/latex": [
       "$\\displaystyle \\left[ 1, \\  1, \\  1, \\  1\\right]$"
      ],
      "text/plain": [
       "<IPython.core.display.Math object>"
      ]
     },
     "metadata": {},
     "output_type": "display_data"
    }
   ],
   "source": [
    "expect_squared = [simplify((r * ZZ * ZZ).trace()) for r in new_rhos]\n",
    "ddisplay(expect_squared)"
   ]
  },
  {
   "cell_type": "code",
   "execution_count": 14,
   "metadata": {},
   "outputs": [
    {
     "data": {
      "text/latex": [
       "$\\displaystyle \\left[ \\frac{1}{2}, \\  \\frac{1}{2}, \\  \\frac{1}{2}, \\  \\frac{1}{2}\\right]$"
      ],
      "text/plain": [
       "<IPython.core.display.Math object>"
      ]
     },
     "metadata": {},
     "output_type": "display_data"
    }
   ],
   "source": [
    "expectations_variance = [s - e**2 for s, e in zip(expect_squared, expectations)]\n",
    "ddisplay(expectations_variance)"
   ]
  }
 ],
 "metadata": {
  "kernelspec": {
   "display_name": "qiskit_env",
   "language": "python",
   "name": "python3"
  },
  "language_info": {
   "codemirror_mode": {
    "name": "ipython",
    "version": 3
   },
   "file_extension": ".py",
   "mimetype": "text/x-python",
   "name": "python",
   "nbconvert_exporter": "python",
   "pygments_lexer": "ipython3",
   "version": "3.12.8"
  }
 },
 "nbformat": 4,
 "nbformat_minor": 2
}
