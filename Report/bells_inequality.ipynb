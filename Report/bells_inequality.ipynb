{
 "cells": [
  {
   "cell_type": "code",
   "execution_count": 68,
   "metadata": {},
   "outputs": [],
   "source": [
    "from sympy import *\n",
    "import matplotlib.pyplot as plt\n",
    "import numpy as np\n",
    "from sympy import mathematica_code as mcode\n",
    "from IPython.display import Math"
   ]
  },
  {
   "cell_type": "code",
   "execution_count": 69,
   "metadata": {},
   "outputs": [],
   "source": [
    "def ddisplay(*arg):\n",
    "    for a in arg:\n",
    "        display(Math(latex(a)))"
   ]
  },
  {
   "cell_type": "code",
   "execution_count": 70,
   "metadata": {},
   "outputs": [
    {
     "data": {
      "text/latex": [
       "$\\displaystyle \\left[ \\left( - \\sqrt{\\left(\\cos{\\left(\\frac{\\theta}{2} \\right)} - 1\\right) \\left(\\cos{\\left(\\frac{\\theta}{2} \\right)} + 1\\right)} + \\cos{\\left(\\frac{\\theta}{2} \\right)}, \\  1, \\  \\left[ \\left[\\begin{matrix}\\frac{\\sin{\\left(\\frac{\\theta}{2} \\right)}}{\\sqrt{\\cos^{2}{\\left(\\frac{\\theta}{2} \\right)} - 1}}\\\\1\\end{matrix}\\right]\\right]\\right), \\  \\left( \\sqrt{\\left(\\cos{\\left(\\frac{\\theta}{2} \\right)} - 1\\right) \\left(\\cos{\\left(\\frac{\\theta}{2} \\right)} + 1\\right)} + \\cos{\\left(\\frac{\\theta}{2} \\right)}, \\  1, \\  \\left[ \\left[\\begin{matrix}- \\frac{\\sin{\\left(\\frac{\\theta}{2} \\right)}}{\\sqrt{\\cos^{2}{\\left(\\frac{\\theta}{2} \\right)} - 1}}\\\\1\\end{matrix}\\right]\\right]\\right)\\right]$"
      ],
      "text/plain": [
       "<IPython.core.display.Math object>"
      ]
     },
     "metadata": {},
     "output_type": "display_data"
    },
    {
     "data": {
      "text/latex": [
       "$\\displaystyle \\left[\\begin{matrix}\\cos{\\left(\\frac{\\theta}{2} \\right)} & - \\sin{\\left(\\frac{\\theta}{2} \\right)}\\\\\\sin{\\left(\\frac{\\theta}{2} \\right)} & \\cos{\\left(\\frac{\\theta}{2} \\right)}\\end{matrix}\\right]$"
      ],
      "text/plain": [
       "<IPython.core.display.Math object>"
      ]
     },
     "metadata": {},
     "output_type": "display_data"
    }
   ],
   "source": [
    "theta = symbols('theta', real=True, positive=True)\n",
    "Ry = Matrix([[cos(theta/2), -sin(theta/2)], [sin(theta/2), cos(theta/2)]])\n",
    "ddisplay((Ry.eigenvects()), Ry)"
   ]
  },
  {
   "cell_type": "code",
   "execution_count": 71,
   "metadata": {},
   "outputs": [
    {
     "data": {
      "text/latex": [
       "$\\displaystyle \\left[\\begin{matrix}\\sqrt{\\frac{1}{2} - \\frac{\\sqrt{2}}{4}} & - \\sqrt{\\frac{\\sqrt{2}}{4} + \\frac{1}{2}} & 0 & 0\\\\\\sqrt{\\frac{\\sqrt{2}}{4} + \\frac{1}{2}} & \\sqrt{\\frac{1}{2} - \\frac{\\sqrt{2}}{4}} & 0 & 0\\\\0 & 0 & - \\sqrt{\\frac{1}{2} - \\frac{\\sqrt{2}}{4}} & \\sqrt{\\frac{\\sqrt{2}}{4} + \\frac{1}{2}}\\\\0 & 0 & - \\sqrt{\\frac{\\sqrt{2}}{4} + \\frac{1}{2}} & - \\sqrt{\\frac{1}{2} - \\frac{\\sqrt{2}}{4}}\\end{matrix}\\right]$"
      ],
      "text/plain": [
       "<IPython.core.display.Math object>"
      ]
     },
     "metadata": {},
     "output_type": "display_data"
    },
    {
     "data": {
      "text/latex": [
       "$\\displaystyle \\left[\\begin{matrix}\\sqrt{\\frac{\\sqrt{2}}{4} + \\frac{1}{2}} & - \\sqrt{\\frac{1}{2} - \\frac{\\sqrt{2}}{4}} & 0 & 0\\\\\\sqrt{\\frac{1}{2} - \\frac{\\sqrt{2}}{4}} & \\sqrt{\\frac{\\sqrt{2}}{4} + \\frac{1}{2}} & 0 & 0\\\\0 & 0 & - \\sqrt{\\frac{\\sqrt{2}}{4} + \\frac{1}{2}} & \\sqrt{\\frac{1}{2} - \\frac{\\sqrt{2}}{4}}\\\\0 & 0 & - \\sqrt{\\frac{1}{2} - \\frac{\\sqrt{2}}{4}} & - \\sqrt{\\frac{\\sqrt{2}}{4} + \\frac{1}{2}}\\end{matrix}\\right]$"
      ],
      "text/plain": [
       "<IPython.core.display.Math object>"
      ]
     },
     "metadata": {},
     "output_type": "display_data"
    },
    {
     "data": {
      "text/latex": [
       "$\\displaystyle \\left[\\begin{matrix}\\frac{\\sqrt{2} \\sqrt{\\frac{1}{2} - \\frac{\\sqrt{2}}{4}}}{2} & - \\frac{\\sqrt{2} \\sqrt{\\frac{\\sqrt{2}}{4} + \\frac{1}{2}}}{2} & \\frac{\\sqrt{2} \\sqrt{\\frac{1}{2} - \\frac{\\sqrt{2}}{4}}}{2} & - \\frac{\\sqrt{2} \\sqrt{\\frac{\\sqrt{2}}{4} + \\frac{1}{2}}}{2}\\\\\\frac{\\sqrt{2} \\sqrt{\\frac{\\sqrt{2}}{4} + \\frac{1}{2}}}{2} & \\frac{\\sqrt{2} \\sqrt{\\frac{1}{2} - \\frac{\\sqrt{2}}{4}}}{2} & \\frac{\\sqrt{2} \\sqrt{\\frac{\\sqrt{2}}{4} + \\frac{1}{2}}}{2} & \\frac{\\sqrt{2} \\sqrt{\\frac{1}{2} - \\frac{\\sqrt{2}}{4}}}{2}\\\\\\frac{\\sqrt{2} \\sqrt{\\frac{1}{2} - \\frac{\\sqrt{2}}{4}}}{2} & - \\frac{\\sqrt{2} \\sqrt{\\frac{\\sqrt{2}}{4} + \\frac{1}{2}}}{2} & - \\frac{\\sqrt{2} \\sqrt{\\frac{1}{2} - \\frac{\\sqrt{2}}{4}}}{2} & \\frac{\\sqrt{2} \\sqrt{\\frac{\\sqrt{2}}{4} + \\frac{1}{2}}}{2}\\\\\\frac{\\sqrt{2} \\sqrt{\\frac{\\sqrt{2}}{4} + \\frac{1}{2}}}{2} & \\frac{\\sqrt{2} \\sqrt{\\frac{1}{2} - \\frac{\\sqrt{2}}{4}}}{2} & - \\frac{\\sqrt{2} \\sqrt{\\frac{\\sqrt{2}}{4} + \\frac{1}{2}}}{2} & - \\frac{\\sqrt{2} \\sqrt{\\frac{1}{2} - \\frac{\\sqrt{2}}{4}}}{2}\\end{matrix}\\right]$"
      ],
      "text/plain": [
       "<IPython.core.display.Math object>"
      ]
     },
     "metadata": {},
     "output_type": "display_data"
    },
    {
     "data": {
      "text/latex": [
       "$\\displaystyle \\left[\\begin{matrix}\\frac{\\sqrt{2} \\sqrt{\\frac{\\sqrt{2}}{4} + \\frac{1}{2}}}{2} & - \\frac{\\sqrt{2} \\sqrt{\\frac{1}{2} - \\frac{\\sqrt{2}}{4}}}{2} & \\frac{\\sqrt{2} \\sqrt{\\frac{\\sqrt{2}}{4} + \\frac{1}{2}}}{2} & - \\frac{\\sqrt{2} \\sqrt{\\frac{1}{2} - \\frac{\\sqrt{2}}{4}}}{2}\\\\\\frac{\\sqrt{2} \\sqrt{\\frac{1}{2} - \\frac{\\sqrt{2}}{4}}}{2} & \\frac{\\sqrt{2} \\sqrt{\\frac{\\sqrt{2}}{4} + \\frac{1}{2}}}{2} & \\frac{\\sqrt{2} \\sqrt{\\frac{1}{2} - \\frac{\\sqrt{2}}{4}}}{2} & \\frac{\\sqrt{2} \\sqrt{\\frac{\\sqrt{2}}{4} + \\frac{1}{2}}}{2}\\\\\\frac{\\sqrt{2} \\sqrt{\\frac{\\sqrt{2}}{4} + \\frac{1}{2}}}{2} & - \\frac{\\sqrt{2} \\sqrt{\\frac{1}{2} - \\frac{\\sqrt{2}}{4}}}{2} & - \\frac{\\sqrt{2} \\sqrt{\\frac{\\sqrt{2}}{4} + \\frac{1}{2}}}{2} & \\frac{\\sqrt{2} \\sqrt{\\frac{1}{2} - \\frac{\\sqrt{2}}{4}}}{2}\\\\\\frac{\\sqrt{2} \\sqrt{\\frac{1}{2} - \\frac{\\sqrt{2}}{4}}}{2} & \\frac{\\sqrt{2} \\sqrt{\\frac{\\sqrt{2}}{4} + \\frac{1}{2}}}{2} & - \\frac{\\sqrt{2} \\sqrt{\\frac{1}{2} - \\frac{\\sqrt{2}}{4}}}{2} & - \\frac{\\sqrt{2} \\sqrt{\\frac{\\sqrt{2}}{4} + \\frac{1}{2}}}{2}\\end{matrix}\\right]$"
      ],
      "text/plain": [
       "<IPython.core.display.Math object>"
      ]
     },
     "metadata": {},
     "output_type": "display_data"
    }
   ],
   "source": [
    "def R(theta):\n",
    "    return Matrix([[cos(theta/2), -sin(theta/2)], [sin(theta/2), cos(theta/2)]])\n",
    "X_basis = 1/sqrt(2) * Matrix([[1,1], [1,-1]])\n",
    "Z_basis = Matrix([[1,0], [0,-1]])\n",
    "R_basis = R(3 * pi / 4)\n",
    "Q_basis = R(pi / 4)\n",
    "\n",
    "\n",
    "ZR = kronecker_product(Z_basis, R_basis)\n",
    "ZQ = kronecker_product(Z_basis, Q_basis)\n",
    "XR = kronecker_product(X_basis, R_basis)\n",
    "XQ = kronecker_product(X_basis, Q_basis)\n",
    "ZZ = kronecker_product(Z_basis, Z_basis)\n",
    "\n",
    "basis = [ZR, ZQ, XR, XQ]\n",
    "ddisplay(ZR, ZQ, XR, XQ)\n"
   ]
  },
  {
   "cell_type": "code",
   "execution_count": 72,
   "metadata": {},
   "outputs": [
    {
     "data": {
      "text/latex": [
       "$\\displaystyle \\left[\\begin{matrix}0\\\\- \\frac{\\sqrt{2}}{2}\\\\\\frac{\\sqrt{2}}{2}\\\\0\\end{matrix}\\right]$"
      ],
      "text/plain": [
       "<IPython.core.display.Math object>"
      ]
     },
     "metadata": {},
     "output_type": "display_data"
    },
    {
     "data": {
      "text/latex": [
       "$\\displaystyle \\left[\\begin{matrix}0 & 0 & 0 & 0\\\\0 & \\frac{1}{2} & - \\frac{1}{2} & 0\\\\0 & - \\frac{1}{2} & \\frac{1}{2} & 0\\\\0 & 0 & 0 & 0\\end{matrix}\\right]$"
      ],
      "text/plain": [
       "<IPython.core.display.Math object>"
      ]
     },
     "metadata": {},
     "output_type": "display_data"
    }
   ],
   "source": [
    "state = 1/sqrt(2) * Matrix([0,-1,1,0])\n",
    "ddisplay(state)\n",
    "rho = state * state.H\n",
    "ddisplay(rho)"
   ]
  },
  {
   "cell_type": "code",
   "execution_count": 73,
   "metadata": {},
   "outputs": [],
   "source": [
    "new_states = [b*state for b in basis]\n",
    "new_rhos = [s * s.H for s in new_states]\n",
    "new_rhos = [(b * state) * (state.H * b.H) for b in basis]"
   ]
  },
  {
   "cell_type": "code",
   "execution_count": 74,
   "metadata": {},
   "outputs": [
    {
     "data": {
      "text/latex": [
       "$\\displaystyle \\left[ \\frac{\\sqrt{2}}{2}, \\  - \\frac{\\sqrt{2}}{2}, \\  \\frac{\\sqrt{2}}{2}, \\  \\frac{\\sqrt{2}}{2}\\right]$"
      ],
      "text/plain": [
       "<IPython.core.display.Math object>"
      ]
     },
     "metadata": {},
     "output_type": "display_data"
    }
   ],
   "source": [
    "expectations = [simplify((r * ZZ).trace()) for r in new_rhos]\n",
    "ddisplay(expectations)"
   ]
  },
  {
   "cell_type": "code",
   "execution_count": 75,
   "metadata": {},
   "outputs": [
    {
     "name": "stdout",
     "output_type": "stream",
     "text": [
      "2*sqrt(2)\n"
     ]
    }
   ],
   "source": [
    "print((expectations[0]-expectations[1]+expectations[2]+expectations[3]).simplify())"
   ]
  },
  {
   "cell_type": "code",
   "execution_count": null,
   "metadata": {},
   "outputs": [],
   "source": []
  }
 ],
 "metadata": {
  "kernelspec": {
   "display_name": "base",
   "language": "python",
   "name": "python3"
  },
  "language_info": {
   "codemirror_mode": {
    "name": "ipython",
    "version": 3
   },
   "file_extension": ".py",
   "mimetype": "text/x-python",
   "name": "python",
   "nbconvert_exporter": "python",
   "pygments_lexer": "ipython3",
   "version": "3.12.4"
  }
 },
 "nbformat": 4,
 "nbformat_minor": 2
}
